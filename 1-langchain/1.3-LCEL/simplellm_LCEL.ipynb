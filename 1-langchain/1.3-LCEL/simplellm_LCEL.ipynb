{
 "cells": [
  {
   "cell_type": "markdown",
   "id": "fc71e46b",
   "metadata": {},
   "source": [
    "### LCEL = Langchain Expression Language to chain component together"
   ]
  },
  {
   "cell_type": "markdown",
   "id": "97f11384",
   "metadata": {},
   "source": []
  }
 ],
 "metadata": {
  "kernelspec": {
   "display_name": "Python 3",
   "language": "python",
   "name": "python3"
  },
  "language_info": {
   "name": "python",
   "version": "3.10.0"
  }
 },
 "nbformat": 4,
 "nbformat_minor": 5
}
